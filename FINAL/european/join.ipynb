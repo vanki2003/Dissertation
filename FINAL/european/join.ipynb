{
 "cells": [
  {
   "cell_type": "code",
   "execution_count": 1,
   "metadata": {},
   "outputs": [],
   "source": [
    "import pandas as pd"
   ]
  },
  {
   "cell_type": "code",
   "execution_count": 7,
   "metadata": {},
   "outputs": [
    {
     "data": {
      "application/vnd.microsoft.datawrangler.viewer.v0+json": {
       "columns": [
        {
         "name": "index",
         "rawType": "int64",
         "type": "integer"
        },
        {
         "name": "date",
         "rawType": "object",
         "type": "string"
        },
        {
         "name": "Open",
         "rawType": "float64",
         "type": "float"
        },
        {
         "name": "Close",
         "rawType": "float64",
         "type": "float"
        },
        {
         "name": "Change",
         "rawType": "float64",
         "type": "float"
        }
       ],
       "conversionMethod": "pd.DataFrame",
       "ref": "22cf6f93-13b9-43cf-908a-eca31aa56c22",
       "rows": [
        [
         "0",
         "2025-03-03",
         "3915.44",
         "3917.741",
         "0.058792897"
        ],
        [
         "1",
         "2025-02-28",
         "3913.54",
         "3915.439",
         "0.048600537"
        ],
        [
         "2",
         "2025-02-27",
         "3908.73",
         "3913.537",
         "0.122904276"
        ],
        [
         "3",
         "2025-02-26",
         "3910.01",
         "3908.733",
         "-0.032736464"
        ],
        [
         "4",
         "2025-02-25",
         "3920.37",
         "3910.013",
         "-0.264057046"
        ]
       ],
       "shape": {
        "columns": 4,
        "rows": 5
       }
      },
      "text/html": [
       "<div>\n",
       "<style scoped>\n",
       "    .dataframe tbody tr th:only-of-type {\n",
       "        vertical-align: middle;\n",
       "    }\n",
       "\n",
       "    .dataframe tbody tr th {\n",
       "        vertical-align: top;\n",
       "    }\n",
       "\n",
       "    .dataframe thead th {\n",
       "        text-align: right;\n",
       "    }\n",
       "</style>\n",
       "<table border=\"1\" class=\"dataframe\">\n",
       "  <thead>\n",
       "    <tr style=\"text-align: right;\">\n",
       "      <th></th>\n",
       "      <th>date</th>\n",
       "      <th>Open</th>\n",
       "      <th>Close</th>\n",
       "      <th>Change</th>\n",
       "    </tr>\n",
       "  </thead>\n",
       "  <tbody>\n",
       "    <tr>\n",
       "      <th>0</th>\n",
       "      <td>2025-03-03</td>\n",
       "      <td>3915.44</td>\n",
       "      <td>3917.741</td>\n",
       "      <td>0.058793</td>\n",
       "    </tr>\n",
       "    <tr>\n",
       "      <th>1</th>\n",
       "      <td>2025-02-28</td>\n",
       "      <td>3913.54</td>\n",
       "      <td>3915.439</td>\n",
       "      <td>0.048601</td>\n",
       "    </tr>\n",
       "    <tr>\n",
       "      <th>2</th>\n",
       "      <td>2025-02-27</td>\n",
       "      <td>3908.73</td>\n",
       "      <td>3913.537</td>\n",
       "      <td>0.122904</td>\n",
       "    </tr>\n",
       "    <tr>\n",
       "      <th>3</th>\n",
       "      <td>2025-02-26</td>\n",
       "      <td>3910.01</td>\n",
       "      <td>3908.733</td>\n",
       "      <td>-0.032736</td>\n",
       "    </tr>\n",
       "    <tr>\n",
       "      <th>4</th>\n",
       "      <td>2025-02-25</td>\n",
       "      <td>3920.37</td>\n",
       "      <td>3910.013</td>\n",
       "      <td>-0.264057</td>\n",
       "    </tr>\n",
       "  </tbody>\n",
       "</table>\n",
       "</div>"
      ],
      "text/plain": [
       "         date     Open     Close    Change\n",
       "0  2025-03-03  3915.44  3917.741  0.058793\n",
       "1  2025-02-28  3913.54  3915.439  0.048601\n",
       "2  2025-02-27  3908.73  3913.537  0.122904\n",
       "3  2025-02-26  3910.01  3908.733 -0.032736\n",
       "4  2025-02-25  3920.37  3910.013 -0.264057"
      ]
     },
     "execution_count": 7,
     "metadata": {},
     "output_type": "execute_result"
    }
   ],
   "source": [
    "stock_data = pd.read_csv(fr'C:\\Users\\ivane\\Desktop\\Dissertation\\prototype\\new_prototype\\stock_df.csv')\n",
    "stock_data.head()"
   ]
  },
  {
   "cell_type": "code",
   "execution_count": 8,
   "metadata": {},
   "outputs": [
    {
     "data": {
      "application/vnd.microsoft.datawrangler.viewer.v0+json": {
       "columns": [
        {
         "name": "index",
         "rawType": "int64",
         "type": "integer"
        },
        {
         "name": "date",
         "rawType": "object",
         "type": "string"
        },
        {
         "name": "majority_sentiment",
         "rawType": "int64",
         "type": "integer"
        },
        {
         "name": "average_sentiment",
         "rawType": "float64",
         "type": "float"
        }
       ],
       "conversionMethod": "pd.DataFrame",
       "ref": "5ded3c67-3b20-4cb8-9410-cda4f1d8aa51",
       "rows": [
        [
         "0",
         "2019-02-26",
         "0",
         "0.8242666721343994"
        ],
        [
         "1",
         "2019-02-27",
         "2",
         "0.8820533752441406"
        ],
        [
         "2",
         "2019-02-28",
         "2",
         "0.9476797580718994"
        ],
        [
         "3",
         "2019-03-01",
         "1",
         "0.97258859872818"
        ],
        [
         "4",
         "2019-03-04",
         "2",
         "0.9365792870521544"
        ]
       ],
       "shape": {
        "columns": 3,
        "rows": 5
       }
      },
      "text/html": [
       "<div>\n",
       "<style scoped>\n",
       "    .dataframe tbody tr th:only-of-type {\n",
       "        vertical-align: middle;\n",
       "    }\n",
       "\n",
       "    .dataframe tbody tr th {\n",
       "        vertical-align: top;\n",
       "    }\n",
       "\n",
       "    .dataframe thead th {\n",
       "        text-align: right;\n",
       "    }\n",
       "</style>\n",
       "<table border=\"1\" class=\"dataframe\">\n",
       "  <thead>\n",
       "    <tr style=\"text-align: right;\">\n",
       "      <th></th>\n",
       "      <th>date</th>\n",
       "      <th>majority_sentiment</th>\n",
       "      <th>average_sentiment</th>\n",
       "    </tr>\n",
       "  </thead>\n",
       "  <tbody>\n",
       "    <tr>\n",
       "      <th>0</th>\n",
       "      <td>2019-02-26</td>\n",
       "      <td>0</td>\n",
       "      <td>0.824267</td>\n",
       "    </tr>\n",
       "    <tr>\n",
       "      <th>1</th>\n",
       "      <td>2019-02-27</td>\n",
       "      <td>2</td>\n",
       "      <td>0.882053</td>\n",
       "    </tr>\n",
       "    <tr>\n",
       "      <th>2</th>\n",
       "      <td>2019-02-28</td>\n",
       "      <td>2</td>\n",
       "      <td>0.947680</td>\n",
       "    </tr>\n",
       "    <tr>\n",
       "      <th>3</th>\n",
       "      <td>2019-03-01</td>\n",
       "      <td>1</td>\n",
       "      <td>0.972589</td>\n",
       "    </tr>\n",
       "    <tr>\n",
       "      <th>4</th>\n",
       "      <td>2019-03-04</td>\n",
       "      <td>2</td>\n",
       "      <td>0.936579</td>\n",
       "    </tr>\n",
       "  </tbody>\n",
       "</table>\n",
       "</div>"
      ],
      "text/plain": [
       "         date  majority_sentiment  average_sentiment\n",
       "0  2019-02-26                   0           0.824267\n",
       "1  2019-02-27                   2           0.882053\n",
       "2  2019-02-28                   2           0.947680\n",
       "3  2019-03-01                   1           0.972589\n",
       "4  2019-03-04                   2           0.936579"
      ]
     },
     "execution_count": 8,
     "metadata": {},
     "output_type": "execute_result"
    }
   ],
   "source": [
    "aggregated_data = pd.read_csv(fr'C:\\Users\\ivane\\Desktop\\Dissertation\\prototype\\new_prototype\\aggregated_data.csv')\n",
    "aggregated_data.head()"
   ]
  },
  {
   "cell_type": "code",
   "execution_count": 10,
   "metadata": {},
   "outputs": [
    {
     "data": {
      "application/vnd.microsoft.datawrangler.viewer.v0+json": {
       "columns": [
        {
         "name": "index",
         "rawType": "int64",
         "type": "integer"
        },
        {
         "name": "date",
         "rawType": "object",
         "type": "string"
        },
        {
         "name": "Open",
         "rawType": "float64",
         "type": "float"
        },
        {
         "name": "Close",
         "rawType": "float64",
         "type": "float"
        },
        {
         "name": "Change",
         "rawType": "float64",
         "type": "float"
        },
        {
         "name": "majority_sentiment",
         "rawType": "int64",
         "type": "integer"
        },
        {
         "name": "average_sentiment",
         "rawType": "float64",
         "type": "float"
        }
       ],
       "conversionMethod": "pd.DataFrame",
       "ref": "d577c3bf-360b-479c-86c8-95e6f3c4506d",
       "rows": [
        [
         "0",
         "2025-02-28",
         "3913.54",
         "3915.439",
         "0.048600537",
         "2",
         "0.8906441926956177"
        ],
        [
         "1",
         "2025-02-27",
         "3908.73",
         "3913.537",
         "0.122904276",
         "2",
         "0.9542003273963928"
        ],
        [
         "2",
         "2025-02-26",
         "3910.01",
         "3908.733",
         "-0.032736464",
         "0",
         "0.8127884765466055"
        ],
        [
         "3",
         "2025-02-25",
         "3920.37",
         "3910.013",
         "-0.264057046",
         "2",
         "0.8357415795326233"
        ],
        [
         "4",
         "2025-02-24",
         "3883.52",
         "3920.365",
         "0.948726684",
         "2",
         "0.8090471506118775"
        ]
       ],
       "shape": {
        "columns": 6,
        "rows": 5
       }
      },
      "text/html": [
       "<div>\n",
       "<style scoped>\n",
       "    .dataframe tbody tr th:only-of-type {\n",
       "        vertical-align: middle;\n",
       "    }\n",
       "\n",
       "    .dataframe tbody tr th {\n",
       "        vertical-align: top;\n",
       "    }\n",
       "\n",
       "    .dataframe thead th {\n",
       "        text-align: right;\n",
       "    }\n",
       "</style>\n",
       "<table border=\"1\" class=\"dataframe\">\n",
       "  <thead>\n",
       "    <tr style=\"text-align: right;\">\n",
       "      <th></th>\n",
       "      <th>date</th>\n",
       "      <th>Open</th>\n",
       "      <th>Close</th>\n",
       "      <th>Change</th>\n",
       "      <th>majority_sentiment</th>\n",
       "      <th>average_sentiment</th>\n",
       "    </tr>\n",
       "  </thead>\n",
       "  <tbody>\n",
       "    <tr>\n",
       "      <th>0</th>\n",
       "      <td>2025-02-28</td>\n",
       "      <td>3913.54</td>\n",
       "      <td>3915.439</td>\n",
       "      <td>0.048601</td>\n",
       "      <td>2</td>\n",
       "      <td>0.890644</td>\n",
       "    </tr>\n",
       "    <tr>\n",
       "      <th>1</th>\n",
       "      <td>2025-02-27</td>\n",
       "      <td>3908.73</td>\n",
       "      <td>3913.537</td>\n",
       "      <td>0.122904</td>\n",
       "      <td>2</td>\n",
       "      <td>0.954200</td>\n",
       "    </tr>\n",
       "    <tr>\n",
       "      <th>2</th>\n",
       "      <td>2025-02-26</td>\n",
       "      <td>3910.01</td>\n",
       "      <td>3908.733</td>\n",
       "      <td>-0.032736</td>\n",
       "      <td>0</td>\n",
       "      <td>0.812788</td>\n",
       "    </tr>\n",
       "    <tr>\n",
       "      <th>3</th>\n",
       "      <td>2025-02-25</td>\n",
       "      <td>3920.37</td>\n",
       "      <td>3910.013</td>\n",
       "      <td>-0.264057</td>\n",
       "      <td>2</td>\n",
       "      <td>0.835742</td>\n",
       "    </tr>\n",
       "    <tr>\n",
       "      <th>4</th>\n",
       "      <td>2025-02-24</td>\n",
       "      <td>3883.52</td>\n",
       "      <td>3920.365</td>\n",
       "      <td>0.948727</td>\n",
       "      <td>2</td>\n",
       "      <td>0.809047</td>\n",
       "    </tr>\n",
       "  </tbody>\n",
       "</table>\n",
       "</div>"
      ],
      "text/plain": [
       "         date     Open     Close    Change  majority_sentiment  \\\n",
       "0  2025-02-28  3913.54  3915.439  0.048601                   2   \n",
       "1  2025-02-27  3908.73  3913.537  0.122904                   2   \n",
       "2  2025-02-26  3910.01  3908.733 -0.032736                   0   \n",
       "3  2025-02-25  3920.37  3910.013 -0.264057                   2   \n",
       "4  2025-02-24  3883.52  3920.365  0.948727                   2   \n",
       "\n",
       "   average_sentiment  \n",
       "0           0.890644  \n",
       "1           0.954200  \n",
       "2           0.812788  \n",
       "3           0.835742  \n",
       "4           0.809047  "
      ]
     },
     "execution_count": 10,
     "metadata": {},
     "output_type": "execute_result"
    }
   ],
   "source": [
    "# join the aggregated data with the stock data\n",
    "merged_data = pd.merge(stock_data, aggregated_data, on='date')\n",
    "merged_data.head()"
   ]
  },
  {
   "cell_type": "code",
   "execution_count": 11,
   "metadata": {},
   "outputs": [],
   "source": [
    "import os\n",
    "\n",
    "pwd = os.getcwd()"
   ]
  },
  {
   "cell_type": "code",
   "execution_count": 12,
   "metadata": {},
   "outputs": [],
   "source": [
    "merged_data.to_csv(fr'{pwd}/merged_data.csv', index=False)"
   ]
  }
 ],
 "metadata": {
  "kernelspec": {
   "display_name": "Python 3",
   "language": "python",
   "name": "python3"
  },
  "language_info": {
   "codemirror_mode": {
    "name": "ipython",
    "version": 3
   },
   "file_extension": ".py",
   "mimetype": "text/x-python",
   "name": "python",
   "nbconvert_exporter": "python",
   "pygments_lexer": "ipython3",
   "version": "3.11.9"
  }
 },
 "nbformat": 4,
 "nbformat_minor": 2
}
