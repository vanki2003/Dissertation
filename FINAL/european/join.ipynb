{
 "cells": [
  {
   "cell_type": "code",
   "execution_count": 1,
   "metadata": {},
   "outputs": [],
   "source": [
    "import pandas as pd"
   ]
  },
  {
   "cell_type": "code",
   "execution_count": 2,
   "metadata": {},
   "outputs": [
    {
     "data": {
      "application/vnd.microsoft.datawrangler.viewer.v0+json": {
       "columns": [
        {
         "name": "index",
         "rawType": "int64",
         "type": "integer"
        },
        {
         "name": "date",
         "rawType": "object",
         "type": "string"
        },
        {
         "name": "Open",
         "rawType": "float64",
         "type": "float"
        },
        {
         "name": "Close",
         "rawType": "float64",
         "type": "float"
        },
        {
         "name": "Change",
         "rawType": "float64",
         "type": "float"
        }
       ],
       "conversionMethod": "pd.DataFrame",
       "ref": "253743e6-5fe8-4408-950f-1436b5db2b0b",
       "rows": [
        [
         "0",
         "2025-03-03",
         "3915.44",
         "3917.741",
         "0.058792897"
        ],
        [
         "1",
         "2025-02-28",
         "3913.54",
         "3915.439",
         "0.048600537"
        ],
        [
         "2",
         "2025-02-27",
         "3908.73",
         "3913.537",
         "0.122904276"
        ],
        [
         "3",
         "2025-02-26",
         "3910.01",
         "3908.733",
         "-0.032736464"
        ],
        [
         "4",
         "2025-02-25",
         "3920.37",
         "3910.013",
         "-0.264057046"
        ]
       ],
       "shape": {
        "columns": 4,
        "rows": 5
       }
      },
      "text/html": [
       "<div>\n",
       "<style scoped>\n",
       "    .dataframe tbody tr th:only-of-type {\n",
       "        vertical-align: middle;\n",
       "    }\n",
       "\n",
       "    .dataframe tbody tr th {\n",
       "        vertical-align: top;\n",
       "    }\n",
       "\n",
       "    .dataframe thead th {\n",
       "        text-align: right;\n",
       "    }\n",
       "</style>\n",
       "<table border=\"1\" class=\"dataframe\">\n",
       "  <thead>\n",
       "    <tr style=\"text-align: right;\">\n",
       "      <th></th>\n",
       "      <th>date</th>\n",
       "      <th>Open</th>\n",
       "      <th>Close</th>\n",
       "      <th>Change</th>\n",
       "    </tr>\n",
       "  </thead>\n",
       "  <tbody>\n",
       "    <tr>\n",
       "      <th>0</th>\n",
       "      <td>2025-03-03</td>\n",
       "      <td>3915.44</td>\n",
       "      <td>3917.741</td>\n",
       "      <td>0.058793</td>\n",
       "    </tr>\n",
       "    <tr>\n",
       "      <th>1</th>\n",
       "      <td>2025-02-28</td>\n",
       "      <td>3913.54</td>\n",
       "      <td>3915.439</td>\n",
       "      <td>0.048601</td>\n",
       "    </tr>\n",
       "    <tr>\n",
       "      <th>2</th>\n",
       "      <td>2025-02-27</td>\n",
       "      <td>3908.73</td>\n",
       "      <td>3913.537</td>\n",
       "      <td>0.122904</td>\n",
       "    </tr>\n",
       "    <tr>\n",
       "      <th>3</th>\n",
       "      <td>2025-02-26</td>\n",
       "      <td>3910.01</td>\n",
       "      <td>3908.733</td>\n",
       "      <td>-0.032736</td>\n",
       "    </tr>\n",
       "    <tr>\n",
       "      <th>4</th>\n",
       "      <td>2025-02-25</td>\n",
       "      <td>3920.37</td>\n",
       "      <td>3910.013</td>\n",
       "      <td>-0.264057</td>\n",
       "    </tr>\n",
       "  </tbody>\n",
       "</table>\n",
       "</div>"
      ],
      "text/plain": [
       "         date     Open     Close    Change\n",
       "0  2025-03-03  3915.44  3917.741  0.058793\n",
       "1  2025-02-28  3913.54  3915.439  0.048601\n",
       "2  2025-02-27  3908.73  3913.537  0.122904\n",
       "3  2025-02-26  3910.01  3908.733 -0.032736\n",
       "4  2025-02-25  3920.37  3910.013 -0.264057"
      ]
     },
     "execution_count": 2,
     "metadata": {},
     "output_type": "execute_result"
    }
   ],
   "source": [
    "stock_data = pd.read_csv(fr'C:\\Users\\ivane\\Desktop\\Dissertation\\FINAL\\european\\stock_df.csv')\n",
    "stock_data.head()"
   ]
  },
  {
   "cell_type": "code",
   "execution_count": 4,
   "metadata": {},
   "outputs": [
    {
     "data": {
      "application/vnd.microsoft.datawrangler.viewer.v0+json": {
       "columns": [
        {
         "name": "index",
         "rawType": "int64",
         "type": "integer"
        },
        {
         "name": "date",
         "rawType": "object",
         "type": "string"
        },
        {
         "name": "majority_sentiment",
         "rawType": "object",
         "type": "string"
        },
        {
         "name": "average_sentiment",
         "rawType": "float64",
         "type": "float"
        }
       ],
       "conversionMethod": "pd.DataFrame",
       "ref": "f9b43bb7-855e-47e8-b6ad-29a4221ddbc4",
       "rows": [
        [
         "0",
         "2007-10-03",
         "neutral",
         "0.7823508977890015"
        ],
        [
         "1",
         "2007-12-05",
         "neutral",
         "0.669374406337738"
        ],
        [
         "2",
         "2008-01-16",
         "neutral",
         "0.8733764886856079"
        ],
        [
         "3",
         "2008-02-13",
         "neutral",
         "0.7500852346420288"
        ],
        [
         "4",
         "2008-02-27",
         "neutral",
         "0.8142646551132202"
        ]
       ],
       "shape": {
        "columns": 3,
        "rows": 5
       }
      },
      "text/html": [
       "<div>\n",
       "<style scoped>\n",
       "    .dataframe tbody tr th:only-of-type {\n",
       "        vertical-align: middle;\n",
       "    }\n",
       "\n",
       "    .dataframe tbody tr th {\n",
       "        vertical-align: top;\n",
       "    }\n",
       "\n",
       "    .dataframe thead th {\n",
       "        text-align: right;\n",
       "    }\n",
       "</style>\n",
       "<table border=\"1\" class=\"dataframe\">\n",
       "  <thead>\n",
       "    <tr style=\"text-align: right;\">\n",
       "      <th></th>\n",
       "      <th>date</th>\n",
       "      <th>majority_sentiment</th>\n",
       "      <th>average_sentiment</th>\n",
       "    </tr>\n",
       "  </thead>\n",
       "  <tbody>\n",
       "    <tr>\n",
       "      <th>0</th>\n",
       "      <td>2007-10-03</td>\n",
       "      <td>neutral</td>\n",
       "      <td>0.782351</td>\n",
       "    </tr>\n",
       "    <tr>\n",
       "      <th>1</th>\n",
       "      <td>2007-12-05</td>\n",
       "      <td>neutral</td>\n",
       "      <td>0.669374</td>\n",
       "    </tr>\n",
       "    <tr>\n",
       "      <th>2</th>\n",
       "      <td>2008-01-16</td>\n",
       "      <td>neutral</td>\n",
       "      <td>0.873376</td>\n",
       "    </tr>\n",
       "    <tr>\n",
       "      <th>3</th>\n",
       "      <td>2008-02-13</td>\n",
       "      <td>neutral</td>\n",
       "      <td>0.750085</td>\n",
       "    </tr>\n",
       "    <tr>\n",
       "      <th>4</th>\n",
       "      <td>2008-02-27</td>\n",
       "      <td>neutral</td>\n",
       "      <td>0.814265</td>\n",
       "    </tr>\n",
       "  </tbody>\n",
       "</table>\n",
       "</div>"
      ],
      "text/plain": [
       "         date majority_sentiment  average_sentiment\n",
       "0  2007-10-03            neutral           0.782351\n",
       "1  2007-12-05            neutral           0.669374\n",
       "2  2008-01-16            neutral           0.873376\n",
       "3  2008-02-13            neutral           0.750085\n",
       "4  2008-02-27            neutral           0.814265"
      ]
     },
     "execution_count": 4,
     "metadata": {},
     "output_type": "execute_result"
    }
   ],
   "source": [
    "aggregated_data = pd.read_csv(fr'C:\\Users\\ivane\\Desktop\\Dissertation\\FINAL\\european\\aggregated_sentiment.csv')\n",
    "aggregated_data.head()"
   ]
  },
  {
   "cell_type": "code",
   "execution_count": 5,
   "metadata": {},
   "outputs": [
    {
     "data": {
      "application/vnd.microsoft.datawrangler.viewer.v0+json": {
       "columns": [
        {
         "name": "index",
         "rawType": "int64",
         "type": "integer"
        },
        {
         "name": "date",
         "rawType": "object",
         "type": "string"
        },
        {
         "name": "Open",
         "rawType": "float64",
         "type": "float"
        },
        {
         "name": "Close",
         "rawType": "float64",
         "type": "float"
        },
        {
         "name": "Change",
         "rawType": "float64",
         "type": "float"
        },
        {
         "name": "majority_sentiment",
         "rawType": "object",
         "type": "string"
        },
        {
         "name": "average_sentiment",
         "rawType": "float64",
         "type": "float"
        }
       ],
       "conversionMethod": "pd.DataFrame",
       "ref": "6c5b9c4b-3a94-4cb2-86b2-ff274595729f",
       "rows": [
        [
         "0",
         "2025-02-19",
         "3820.56",
         "3826.774",
         "0.162777398",
         "negative",
         "0.711748480796814"
        ],
        [
         "1",
         "2025-02-14",
         "3795.63",
         "3787.966",
         "-0.202021586",
         "neutral",
         "0.5189045667648315"
        ],
        [
         "2",
         "2025-02-03",
         "3759.19",
         "3779.815",
         "0.548735671",
         "negative",
         "0.7937707901000977"
        ],
        [
         "3",
         "2025-01-30",
         "3729.03",
         "3729.51",
         "0.0128988",
         "negative",
         "0.8561931252479553"
        ],
        [
         "4",
         "2025-01-29",
         "3740.03",
         "3729.029",
         "-0.294142026",
         "negative",
         "0.7830147743225098"
        ]
       ],
       "shape": {
        "columns": 6,
        "rows": 5
       }
      },
      "text/html": [
       "<div>\n",
       "<style scoped>\n",
       "    .dataframe tbody tr th:only-of-type {\n",
       "        vertical-align: middle;\n",
       "    }\n",
       "\n",
       "    .dataframe tbody tr th {\n",
       "        vertical-align: top;\n",
       "    }\n",
       "\n",
       "    .dataframe thead th {\n",
       "        text-align: right;\n",
       "    }\n",
       "</style>\n",
       "<table border=\"1\" class=\"dataframe\">\n",
       "  <thead>\n",
       "    <tr style=\"text-align: right;\">\n",
       "      <th></th>\n",
       "      <th>date</th>\n",
       "      <th>Open</th>\n",
       "      <th>Close</th>\n",
       "      <th>Change</th>\n",
       "      <th>majority_sentiment</th>\n",
       "      <th>average_sentiment</th>\n",
       "    </tr>\n",
       "  </thead>\n",
       "  <tbody>\n",
       "    <tr>\n",
       "      <th>0</th>\n",
       "      <td>2025-02-19</td>\n",
       "      <td>3820.56</td>\n",
       "      <td>3826.774</td>\n",
       "      <td>0.162777</td>\n",
       "      <td>negative</td>\n",
       "      <td>0.711748</td>\n",
       "    </tr>\n",
       "    <tr>\n",
       "      <th>1</th>\n",
       "      <td>2025-02-14</td>\n",
       "      <td>3795.63</td>\n",
       "      <td>3787.966</td>\n",
       "      <td>-0.202022</td>\n",
       "      <td>neutral</td>\n",
       "      <td>0.518905</td>\n",
       "    </tr>\n",
       "    <tr>\n",
       "      <th>2</th>\n",
       "      <td>2025-02-03</td>\n",
       "      <td>3759.19</td>\n",
       "      <td>3779.815</td>\n",
       "      <td>0.548736</td>\n",
       "      <td>negative</td>\n",
       "      <td>0.793771</td>\n",
       "    </tr>\n",
       "    <tr>\n",
       "      <th>3</th>\n",
       "      <td>2025-01-30</td>\n",
       "      <td>3729.03</td>\n",
       "      <td>3729.510</td>\n",
       "      <td>0.012899</td>\n",
       "      <td>negative</td>\n",
       "      <td>0.856193</td>\n",
       "    </tr>\n",
       "    <tr>\n",
       "      <th>4</th>\n",
       "      <td>2025-01-29</td>\n",
       "      <td>3740.03</td>\n",
       "      <td>3729.029</td>\n",
       "      <td>-0.294142</td>\n",
       "      <td>negative</td>\n",
       "      <td>0.783015</td>\n",
       "    </tr>\n",
       "  </tbody>\n",
       "</table>\n",
       "</div>"
      ],
      "text/plain": [
       "         date     Open     Close    Change majority_sentiment  \\\n",
       "0  2025-02-19  3820.56  3826.774  0.162777           negative   \n",
       "1  2025-02-14  3795.63  3787.966 -0.202022            neutral   \n",
       "2  2025-02-03  3759.19  3779.815  0.548736           negative   \n",
       "3  2025-01-30  3729.03  3729.510  0.012899           negative   \n",
       "4  2025-01-29  3740.03  3729.029 -0.294142           negative   \n",
       "\n",
       "   average_sentiment  \n",
       "0           0.711748  \n",
       "1           0.518905  \n",
       "2           0.793771  \n",
       "3           0.856193  \n",
       "4           0.783015  "
      ]
     },
     "execution_count": 5,
     "metadata": {},
     "output_type": "execute_result"
    }
   ],
   "source": [
    "# join the aggregated data with the stock data\n",
    "merged_data = pd.merge(stock_data, aggregated_data, on='date')\n",
    "merged_data.head()"
   ]
  },
  {
   "cell_type": "code",
   "execution_count": 6,
   "metadata": {},
   "outputs": [],
   "source": [
    "import os\n",
    "\n",
    "pwd = os.getcwd()"
   ]
  },
  {
   "cell_type": "code",
   "execution_count": 8,
   "metadata": {},
   "outputs": [],
   "source": [
    "merged_data.to_csv(fr'{pwd}/merged_data.csv', index=False)"
   ]
  }
 ],
 "metadata": {
  "kernelspec": {
   "display_name": "Python 3",
   "language": "python",
   "name": "python3"
  },
  "language_info": {
   "codemirror_mode": {
    "name": "ipython",
    "version": 3
   },
   "file_extension": ".py",
   "mimetype": "text/x-python",
   "name": "python",
   "nbconvert_exporter": "python",
   "pygments_lexer": "ipython3",
   "version": "3.11.9"
  }
 },
 "nbformat": 4,
 "nbformat_minor": 2
}
