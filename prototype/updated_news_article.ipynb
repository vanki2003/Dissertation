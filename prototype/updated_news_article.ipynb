{
 "cells": [
  {
   "cell_type": "code",
   "execution_count": 1,
   "metadata": {},
   "outputs": [
    {
     "name": "stderr",
     "output_type": "stream",
     "text": [
      "C:\\Users\\ivane\\AppData\\Local\\Packages\\PythonSoftwareFoundation.Python.3.11_qbz5n2kfra8p0\\LocalCache\\local-packages\\Python311\\site-packages\\tqdm\\auto.py:21: TqdmWarning: IProgress not found. Please update jupyter and ipywidgets. See https://ipywidgets.readthedocs.io/en/stable/user_install.html\n",
      "  from .autonotebook import tqdm as notebook_tqdm\n"
     ]
    },
    {
     "name": "stdout",
     "output_type": "stream",
     "text": [
      "Dataset saved as apple_sentiment_dataset.csv\n"
     ]
    }
   ],
   "source": [
    "import feedparser\n",
    "import transformers\n",
    "import pandas as pd\n",
    "from transformers import pipeline\n",
    "from datetime import datetime, timedelta, timezone\n",
    "\n",
    "# Initialize sentiment pipeline\n",
    "pipe = pipeline(task='text-classification', model='ProsusAI/finbert')\n",
    "\n",
    "# Ticker and keyword\n",
    "ticker = 'AAPL'\n",
    "keyword = 'apple'\n",
    "\n",
    "# RSS Feed URL\n",
    "rss_url = f'https://feeds.finance.yahoo.com/rss/2.0/headline?s={ticker}'\n",
    "feed = feedparser.parse(rss_url)\n",
    "\n",
    "# Data storage\n",
    "data = []\n",
    "\n",
    "# Time filter (past 5 years)\n",
    "cutoff_date = (datetime.now().replace(tzinfo=timezone.utc) - timedelta(days=5*365))\n",
    "\n",
    "for i, entry in enumerate(feed.entries):\n",
    "    # Parse publication date\n",
    "    published_date = datetime.strptime(entry.published, '%a, %d %b %Y %H:%M:%S %z')\n",
    "    \n",
    "    # Filter articles older than 5 years\n",
    "    if published_date < cutoff_date:\n",
    "        continue\n",
    "    \n",
    "    if keyword.lower() not in entry.summary.lower():\n",
    "        continue\n",
    "    \n",
    "    # Perform sentiment analysis\n",
    "    sentiment = pipe(entry.summary)[0]\n",
    "    \n",
    "    # Store in list\n",
    "    data.append({\n",
    "        'title': entry.title,\n",
    "        'link': entry.link,\n",
    "        'published': entry.published,\n",
    "        'summary': entry.summary,\n",
    "        'sentiment': sentiment['label'],\n",
    "        'score': sentiment['score']\n",
    "    })\n",
    "\n",
    "# Convert to DataFrame\n",
    "df = pd.DataFrame(data)\n",
    "\n",
    "# Save as CSV\n",
    "df.to_csv(fr'C:\\Users\\ivane\\Dissertation\\data\\{ticker}_sentiment_dataset.csv', index=False)\n",
    "\n",
    "print(\"Dataset saved as apple_sentiment_dataset.csv\")\n"
   ]
  }
 ],
 "metadata": {
  "kernelspec": {
   "display_name": "Python 3",
   "language": "python",
   "name": "python3"
  },
  "language_info": {
   "codemirror_mode": {
    "name": "ipython",
    "version": 3
   },
   "file_extension": ".py",
   "mimetype": "text/x-python",
   "name": "python",
   "nbconvert_exporter": "python",
   "pygments_lexer": "ipython3",
   "version": "3.11.9"
  }
 },
 "nbformat": 4,
 "nbformat_minor": 2
}
