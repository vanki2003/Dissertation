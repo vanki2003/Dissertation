{
 "cells": [
  {
   "cell_type": "code",
   "execution_count": 123,
   "metadata": {},
   "outputs": [],
   "source": [
    "import torch\n",
    "import torch.nn as nn\n",
    "import torch.optim as optim\n",
    "import numpy as np\n",
    "import pandas as pd\n",
    "from sklearn.preprocessing import MinMaxScaler\n",
    "from torch.utils.data import DataLoader, TensorDataset\n"
   ]
  },
  {
   "cell_type": "code",
   "execution_count": 124,
   "metadata": {},
   "outputs": [
    {
     "data": {
      "text/html": [
       "<div>\n",
       "<style scoped>\n",
       "    .dataframe tbody tr th:only-of-type {\n",
       "        vertical-align: middle;\n",
       "    }\n",
       "\n",
       "    .dataframe tbody tr th {\n",
       "        vertical-align: top;\n",
       "    }\n",
       "\n",
       "    .dataframe thead th {\n",
       "        text-align: right;\n",
       "    }\n",
       "</style>\n",
       "<table border=\"1\" class=\"dataframe\">\n",
       "  <thead>\n",
       "    <tr style=\"text-align: right;\">\n",
       "      <th></th>\n",
       "      <th>Date</th>\n",
       "      <th>Open</th>\n",
       "      <th>Close</th>\n",
       "      <th>Change</th>\n",
       "      <th>sentiment</th>\n",
       "      <th>sentiment_score</th>\n",
       "    </tr>\n",
       "  </thead>\n",
       "  <tbody>\n",
       "    <tr>\n",
       "      <th>0</th>\n",
       "      <td>2025-01-10</td>\n",
       "      <td>3761.549</td>\n",
       "      <td>3736.886</td>\n",
       "      <td>-0.66</td>\n",
       "      <td>0</td>\n",
       "      <td>0.700804</td>\n",
       "    </tr>\n",
       "    <tr>\n",
       "      <th>1</th>\n",
       "      <td>2024-12-19</td>\n",
       "      <td>3780.106</td>\n",
       "      <td>3708.531</td>\n",
       "      <td>-1.93</td>\n",
       "      <td>0</td>\n",
       "      <td>0.950467</td>\n",
       "    </tr>\n",
       "    <tr>\n",
       "      <th>2</th>\n",
       "      <td>2024-12-18</td>\n",
       "      <td>3774.744</td>\n",
       "      <td>3781.551</td>\n",
       "      <td>0.18</td>\n",
       "      <td>1</td>\n",
       "      <td>0.460880</td>\n",
       "    </tr>\n",
       "    <tr>\n",
       "      <th>3</th>\n",
       "      <td>2024-12-16</td>\n",
       "      <td>3748.220</td>\n",
       "      <td>3765.163</td>\n",
       "      <td>0.45</td>\n",
       "      <td>1</td>\n",
       "      <td>0.771217</td>\n",
       "    </tr>\n",
       "    <tr>\n",
       "      <th>4</th>\n",
       "      <td>2024-12-12</td>\n",
       "      <td>3744.519</td>\n",
       "      <td>3748.267</td>\n",
       "      <td>0.10</td>\n",
       "      <td>1</td>\n",
       "      <td>0.927686</td>\n",
       "    </tr>\n",
       "  </tbody>\n",
       "</table>\n",
       "</div>"
      ],
      "text/plain": [
       "        Date      Open     Close  Change  sentiment  sentiment_score\n",
       "0 2025-01-10  3761.549  3736.886   -0.66          0         0.700804\n",
       "1 2024-12-19  3780.106  3708.531   -1.93          0         0.950467\n",
       "2 2024-12-18  3774.744  3781.551    0.18          1         0.460880\n",
       "3 2024-12-16  3748.220  3765.163    0.45          1         0.771217\n",
       "4 2024-12-12  3744.519  3748.267    0.10          1         0.927686"
      ]
     },
     "execution_count": 124,
     "metadata": {},
     "output_type": "execute_result"
    }
   ],
   "source": [
    "df = pd.read_csv(fr'C:\\Users\\ivane\\Desktop\\Dissertation\\data\\merged_data.csv', parse_dates=['Date'])\n",
    "df.head()"
   ]
  },
  {
   "cell_type": "code",
   "execution_count": 125,
   "metadata": {},
   "outputs": [
    {
     "data": {
      "text/plain": [
       "Index(['Date', 'Open', 'Close', 'Change', 'sentiment', 'sentiment_score'], dtype='object')"
      ]
     },
     "execution_count": 125,
     "metadata": {},
     "output_type": "execute_result"
    }
   ],
   "source": [
    "df.columns"
   ]
  },
  {
   "cell_type": "code",
   "execution_count": 126,
   "metadata": {},
   "outputs": [],
   "source": [
    "features = ['Open', 'Close', 'Change', 'sentiment', 'sentiment_score']\n",
    "target = 'Close'"
   ]
  },
  {
   "cell_type": "code",
   "execution_count": 127,
   "metadata": {},
   "outputs": [],
   "source": [
    "# 1. Data Preprocessing\n",
    "# Scale the data\n",
    "scaler = MinMaxScaler()\n",
    "scaled_data = scaler.fit_transform(df[features])\n",
    "scaled_data = scaled_data.astype(np.float32)  # Convert to float32 for PyTorch"
   ]
  },
  {
   "cell_type": "code",
   "execution_count": 128,
   "metadata": {},
   "outputs": [],
   "source": [
    "# Create sequences (assuming we want to predict next day's Close price)\n",
    "def create_sequences(data, seq_length=10):\n",
    "    X, y = [], []\n",
    "    for i in range(len(data) - seq_length):\n",
    "        X.append(data[i:(i + seq_length)])\n",
    "        y.append(data[i + seq_length, 1])  # Index 1 for Close price\n",
    "    return np.array(X), np.array(y)\n",
    "\n",
    "seq_length = 10\n",
    "X, y = create_sequences(scaled_data)"
   ]
  },
  {
   "cell_type": "code",
   "execution_count": 129,
   "metadata": {},
   "outputs": [
    {
     "name": "stdout",
     "output_type": "stream",
     "text": [
      "Split data into train/test sets:\n",
      "X_train: 336\n",
      "y_train: 336\n",
      "X_test: 84\n",
      "y_test: 84\n"
     ]
    }
   ],
   "source": [
    "# 5. Split into train/test\n",
    "X_train, X_test = X_tensor[:split], X_tensor[split:]\n",
    "split = int(0.8 * len(X))  # 80% train, 20% test\n",
    "X_train, X_test = X[:split], X[split:]\n",
    "y_train, y_test = y[:split], y[split:]\n",
    "\n",
    "print(\"Split data into train/test sets:\")\n",
    "print(f\"X_train: {len(X_train)}\")\n",
    "print(f\"y_train: {len(y_train)}\")\n",
    "print(f\"X_test: {len(X_test)}\")\n",
    "print(f\"y_test: {len(y_test)}\")"
   ]
  },
  {
   "cell_type": "code",
   "execution_count": 131,
   "metadata": {},
   "outputs": [],
   "source": [
    "batch_size = 16\n",
    "X_train_tensor = torch.tensor(X_train, dtype=torch.float32)\n",
    "y_train_tensor = torch.tensor(y_train, dtype=torch.float32)\n",
    "X_test_tensor = torch.tensor(X_test, dtype=torch.float32)\n",
    "y_test_tensor = torch.tensor(y_test, dtype=torch.float32)\n",
    "\n",
    "train_loader = DataLoader(TensorDataset(X_train_tensor, y_train_tensor), batch_size=batch_size, shuffle=True)\n",
    "test_loader = DataLoader(TensorDataset(X_test_tensor, y_test_tensor), batch_size=batch_size, shuffle=False)"
   ]
  },
  {
   "cell_type": "code",
   "execution_count": 132,
   "metadata": {},
   "outputs": [],
   "source": [
    "# 7. Define CNN-LSTM Model\n",
    "class CNNLSTM(nn.Module):\n",
    "    def __init__(self, input_size, hidden_size=64, num_layers=2):\n",
    "        super(CNNLSTM, self).__init__()\n",
    "        self.hidden_size = hidden_size\n",
    "        self.num_layers = num_layers\n",
    "\n",
    "        # CNN Layer\n",
    "        self.conv1 = nn.Conv1d(in_channels=input_size, out_channels=32, kernel_size=3, padding=1)\n",
    "        self.conv2 = nn.Conv1d(in_channels=32, out_channels=64, kernel_size=3, padding=1)\n",
    "        self.relu = nn.ReLU()\n",
    "        self.pool = nn.MaxPool1d(kernel_size=2)\n",
    "\n",
    "        # LSTM Layer\n",
    "        self.lstm = nn.LSTM(input_size=64, hidden_size=hidden_size, num_layers=num_layers, batch_first=True)\n",
    "\n",
    "        # Fully Connected Layer\n",
    "        self.fc = nn.Linear(hidden_size, 1)  # Output layer (predicts closing price)\n",
    "\n",
    "    def forward(self, x):\n",
    "        x = x.permute(0, 2, 1)  # Reshape for Conv1D (batch, features, timesteps)\n",
    "        x = self.relu(self.conv1(x))\n",
    "        x = self.pool(self.relu(self.conv2(x)))\n",
    "\n",
    "        x = x.permute(0, 2, 1)  # Reshape for LSTM (batch, timesteps, features)\n",
    "        h0 = torch.zeros(self.num_layers, x.size(0), self.hidden_size).to(x.device)\n",
    "        c0 = torch.zeros(self.num_layers, x.size(0), self.hidden_size).to(x.device)\n",
    "        \n",
    "        out, _ = self.lstm(x, (h0, c0))\n",
    "        out = self.fc(out[:, -1, :])  # Take output from last time step\n",
    "        return out"
   ]
  },
  {
   "cell_type": "code",
   "execution_count": 133,
   "metadata": {},
   "outputs": [],
   "source": [
    "# 8. Initialize Model, Loss Function, Optimizer\n",
    "device = torch.device(\"cuda\" if torch.cuda.is_available() else \"cpu\")\n",
    "input_size = len(features)  # Number of features per time step\n",
    "\n",
    "model = CNNLSTM(input_size=input_size).to(device)\n",
    "criterion = nn.MSELoss()  # Mean Squared Error for regression\n",
    "optimizer = optim.Adam(model.parameters(), lr=0.001)"
   ]
  },
  {
   "cell_type": "code",
   "execution_count": 134,
   "metadata": {},
   "outputs": [
    {
     "name": "stderr",
     "output_type": "stream",
     "text": [
      "C:\\Users\\ivane\\AppData\\Local\\Packages\\PythonSoftwareFoundation.Python.3.11_qbz5n2kfra8p0\\LocalCache\\local-packages\\Python311\\site-packages\\torch\\nn\\modules\\loss.py:608: UserWarning: Using a target size (torch.Size([16])) that is different to the input size (torch.Size([16, 1])). This will likely lead to incorrect results due to broadcasting. Please ensure they have the same size.\n",
      "  return F.mse_loss(input, target, reduction=self.reduction)\n"
     ]
    },
    {
     "name": "stdout",
     "output_type": "stream",
     "text": [
      "Epoch 1/50, Loss: 0.072037\n",
      "Epoch 2/50, Loss: 0.036881\n",
      "Epoch 3/50, Loss: 0.034636\n",
      "Epoch 4/50, Loss: 0.036352\n",
      "Epoch 5/50, Loss: 0.035749\n",
      "Epoch 6/50, Loss: 0.035815\n",
      "Epoch 7/50, Loss: 0.034952\n",
      "Epoch 8/50, Loss: 0.034843\n",
      "Epoch 9/50, Loss: 0.034568\n",
      "Epoch 10/50, Loss: 0.034697\n",
      "Epoch 11/50, Loss: 0.035129\n",
      "Epoch 12/50, Loss: 0.035281\n",
      "Epoch 13/50, Loss: 0.035506\n",
      "Epoch 14/50, Loss: 0.034775\n",
      "Epoch 15/50, Loss: 0.035235\n",
      "Epoch 16/50, Loss: 0.035696\n",
      "Epoch 17/50, Loss: 0.035605\n",
      "Epoch 18/50, Loss: 0.035121\n",
      "Epoch 19/50, Loss: 0.036359\n",
      "Epoch 20/50, Loss: 0.035289\n",
      "Epoch 21/50, Loss: 0.035015\n",
      "Epoch 22/50, Loss: 0.035426\n",
      "Epoch 23/50, Loss: 0.035203\n",
      "Epoch 24/50, Loss: 0.034813\n",
      "Epoch 25/50, Loss: 0.034932\n",
      "Epoch 26/50, Loss: 0.034751\n",
      "Epoch 27/50, Loss: 0.035006\n",
      "Epoch 28/50, Loss: 0.034824\n",
      "Epoch 29/50, Loss: 0.034768\n",
      "Epoch 30/50, Loss: 0.034682\n",
      "Epoch 31/50, Loss: 0.034656\n",
      "Epoch 32/50, Loss: 0.036443\n",
      "Epoch 33/50, Loss: 0.034887\n",
      "Epoch 34/50, Loss: 0.034415\n",
      "Epoch 35/50, Loss: 0.034889\n",
      "Epoch 36/50, Loss: 0.035104\n",
      "Epoch 37/50, Loss: 0.035203\n",
      "Epoch 38/50, Loss: 0.034676\n",
      "Epoch 39/50, Loss: 0.034696\n",
      "Epoch 40/50, Loss: 0.034642\n",
      "Epoch 41/50, Loss: 0.035054\n",
      "Epoch 42/50, Loss: 0.034720\n",
      "Epoch 43/50, Loss: 0.035264\n",
      "Epoch 44/50, Loss: 0.035573\n",
      "Epoch 45/50, Loss: 0.034919\n",
      "Epoch 46/50, Loss: 0.034737\n",
      "Epoch 47/50, Loss: 0.034799\n",
      "Epoch 48/50, Loss: 0.034645\n",
      "Epoch 49/50, Loss: 0.034951\n",
      "Epoch 50/50, Loss: 0.035033\n"
     ]
    }
   ],
   "source": [
    "# 9. Train Model\n",
    "epochs = 50\n",
    "for epoch in range(epochs):\n",
    "    model.train()\n",
    "    total_loss = 0\n",
    "    for X_batch, y_batch in train_loader:\n",
    "        X_batch, y_batch = X_batch.to(device), y_batch.to(device)\n",
    "\n",
    "        optimizer.zero_grad()\n",
    "        predictions = model(X_batch)\n",
    "        loss = criterion(predictions, y_batch)\n",
    "        loss.backward()\n",
    "        optimizer.step()\n",
    "        total_loss += loss.item()\n",
    "\n",
    "    print(f\"Epoch {epoch+1}/{epochs}, Loss: {total_loss / len(train_loader):.6f}\")"
   ]
  },
  {
   "cell_type": "code",
   "execution_count": 137,
   "metadata": {},
   "outputs": [
    {
     "name": "stdout",
     "output_type": "stream",
     "text": [
      "Test MSE: 0.091326\n"
     ]
    }
   ],
   "source": [
    "# 10. Evaluate Model\n",
    "import matplotlib.pyplot as plt\n",
    "from sklearn.metrics import mean_absolute_error\n",
    "\n",
    "model.eval()\n",
    "test_losses = []\n",
    "predictions_list = []\n",
    "\n",
    "with torch.no_grad():\n",
    "    for X_batch, y_batch in test_loader:\n",
    "        X_batch, y_batch = X_batch.to(device), y_batch.to(device)\n",
    "        predictions = model(X_batch)\n",
    "        loss = criterion(predictions, y_batch)\n",
    "        test_losses.append(loss.item())\n",
    "        predictions_list.extend(predictions.cpu().numpy())\n",
    "\n",
    "# 2. Compute MSE & MAE\n",
    "test_mse = np.mean(test_losses)\n",
    "\n",
    "print(f\"Test MSE: {test_mse:.6f}\")\n",
    "\n",
    "# 3. Convert Predictions Back to Original Scale\n",
    "predictions = scaler.inverse_transform(np.array(predictions_list).reshape(-1, 1))\n",
    "y_test_original = scaler.inverse_transform(y_test_tensor.cpu().numpy().reshape(-1, 1))\n",
    "\n",
    "# 4. Plot Results\n",
    "plt.figure(figsize=(12, 6))\n",
    "plt.plot(df[\"Date\"].values[split+seq_length:], y_test_original, label=\"Actual\", color='blue')\n",
    "plt.plot(df[\"Date\"].values[split+seq_length:], predictions, label=\"Predicted\", color='red', linestyle='dashed')\n",
    "plt.legend()\n",
    "plt.xlabel(\"Date\")\n",
    "plt.ylabel(\"Stock Price\")\n",
    "plt.title(\"Stock Price Prediction with CNN-LSTM\")\n",
    "plt.grid()\n",
    "plt.show()"
   ]
  }
 ],
 "metadata": {
  "kernelspec": {
   "display_name": "Python 3",
   "language": "python",
   "name": "python3"
  },
  "language_info": {
   "codemirror_mode": {
    "name": "ipython",
    "version": 3
   },
   "file_extension": ".py",
   "mimetype": "text/x-python",
   "name": "python",
   "nbconvert_exporter": "python",
   "pygments_lexer": "ipython3",
   "version": "3.11.9"
  }
 },
 "nbformat": 4,
 "nbformat_minor": 2
}
